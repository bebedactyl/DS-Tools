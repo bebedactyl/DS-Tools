{
 "cells": [
  {
   "cell_type": "markdown",
   "metadata": {},
   "source": [
    "# Hw 1. Please complete the following activity and submit the notebook in LMS(learning management system)."
   ]
  },
  {
   "cell_type": "markdown",
   "metadata": {},
   "source": [
    "# Q1(.5 point) Why we need Python virtual environments?\n",
    "\n",
    "Please write no more than 3 lines."
   ]
  },
  {
   "cell_type": "markdown",
   "metadata": {},
   "source": [
    "When sharing code between multiple users, the virtual environments ensure that the same packages and package versions are used.\n"
   ]
  },
  {
   "cell_type": "markdown",
   "metadata": {},
   "source": [
    "# Q2(.5 point) Sort following list in place alphabetically using last three character"
   ]
  },
  {
   "cell_type": "code",
   "execution_count": 7,
   "metadata": {},
   "outputs": [
    {
     "data": {
      "text/plain": [
       "['Africa', 'America', 'Antarctica', 'Australia', 'Europe', 'Asia']"
      ]
     },
     "execution_count": 7,
     "metadata": {},
     "output_type": "execute_result"
    }
   ],
   "source": [
    "continentsL = ['Europe', 'Africa', 'America', 'Antarctica', 'Asia', 'Australia']\n",
    "# Write you code in the next line\n",
    "\n",
    "cont_sorted = sorted(continentsL, key = lambda x: x[-3:] )\n",
    "\n",
    "cont_sorted"
   ]
  },
  {
   "cell_type": "markdown",
   "metadata": {},
   "source": [
    "# Q3(1= .5+.5 points) We want to compare random integer generation time in numpy and random module of python. Generate 100 random integer in the range 1 to 10 including 1 and 10. Write jupyter notebook line magic to compare execution time of random integer generation in the following cells(look for the cells having the comment *write line magic*).  Line magic must execute the given statement  10 times in a loop and repeats 5 times.\n",
    "\n",
    " \n",
    " Hints:\n",
    "\n",
    " - Note that numpy.random has randint function and random has random.randint function.\n",
    " - Press shift+tab after typing above function or search their documentation to understand their parameters.\n",
    " - use ? on magic command timeit for further documentation. see how to use **-n and -r options**.\n",
    " "
   ]
  },
  {
   "cell_type": "code",
   "execution_count": 9,
   "metadata": {},
   "outputs": [],
   "source": [
    "import random\n",
    "num_sample = 100\n",
    "low = 1\n",
    "high = 10"
   ]
  },
  {
   "cell_type": "code",
   "execution_count": 10,
   "metadata": {},
   "outputs": [
    {
     "name": "stdout",
     "output_type": "stream",
     "text": [
      "53 µs ± 1.13 µs per loop (mean ± std. dev. of 7 runs, 10000 loops each)\n"
     ]
    }
   ],
   "source": [
    "# write line magic for random module in the next line\n",
    "%timeit [random.randrange(low, high + 1, 1) for i in range(num_sample)]"
   ]
  },
  {
   "cell_type": "code",
   "execution_count": 11,
   "metadata": {},
   "outputs": [],
   "source": [
    "import numpy as np"
   ]
  },
  {
   "cell_type": "code",
   "execution_count": 12,
   "metadata": {},
   "outputs": [
    {
     "name": "stdout",
     "output_type": "stream",
     "text": [
      "500 µs ± 9.79 µs per loop (mean ± std. dev. of 7 runs, 1000 loops each)\n"
     ]
    }
   ],
   "source": [
    "# write line magic for numpy randint in the next line\n",
    "%timeit [np.random.randint(low,high+1) for i in range(num_sample)]"
   ]
  },
  {
   "cell_type": "markdown",
   "metadata": {},
   "source": [
    "<font size = \"6\"> To start working toward final project, complete the following questions by writing markdown in the same cell in next line. Each question in worth .5 point. </font>\n",
    "\n",
    "In tools 1 course, __*we are concerned with data cleaning, feature engineering and exploratory analysis. Make sure your selected final project allows for lots of data cleaning, transformation and engineering opportunity.*__ \n",
    "\n",
    "Go over project and presentation rubric in course webpage to better understand the requirement for the project.  We will evaluate the answer to see if it meets the final project requirements.\n",
    "\n",
    "\n",
    "\n",
    "<font color = \"red\" size = \"5\">If you are working in a team, we'll read only one team member notebook for the following questions. Please make sure you have identical answers for following questions.  </font>\n",
    "\n",
    "<font color =\"red\"> To edit a markdown cell you need to double click in the cell</font>"
   ]
  },
  {
   "cell_type": "markdown",
   "metadata": {},
   "source": [
    "# Q4 List your team members in bullet format.(No more than 3 members. It'll be hard for us to allow changing team member at a later stage.)\n",
    "Note that\n",
    "\n",
    "- **Each member** has to present a portion of the project in the final presentation.\n",
    "\n",
    "-  Final report must list the contribution of each member. \n"
   ]
  },
  {
   "cell_type": "markdown",
   "metadata": {},
   "source": [
    "- Megan Hoeksema\n",
    "- Justin Tice"
   ]
  },
  {
   "cell_type": "markdown",
   "metadata": {},
   "source": [
    "# Q5  What  problem you are trying to solve?"
   ]
  },
  {
   "cell_type": "raw",
   "metadata": {},
   "source": [
    "Produce a weather forcast given the date, time, state/lat/long. Valid only in the northeastern region of Brazil. "
   ]
  },
  {
   "cell_type": "markdown",
   "metadata": {},
   "source": [
    "# Q6 Describe the attributes of examples in the dataset. If you are planning to collect the data(webscrapping, web API etc.), list the time line to finish the data collection."
   ]
  },
  {
   "cell_type": "markdown",
   "metadata": {},
   "source": [
    "Date (YYYY-MM-DD),\n",
    "Time (HH:00),\n",
    "Amount of precipitation in millimetres (last hour),\n",
    "Atmospheric pressure at station level (mb),\n",
    "Maximum air pressure for the last hour (mb),\n",
    "Minimum air pressure for the last hour (mb),\n",
    "Solar radiation (KJ/m2),\n",
    "Air temperature (instant) (°c),\n",
    "Dew point temperature (instant) (°c),\n",
    "Maximum temperature for the last hour (°c),\n",
    "Minimum temperature for the last hour (°c),\n",
    "Maximum dew point temperature for the last hour (°c),\n",
    "Minimum dew point temperature for the last hour (°c),\n",
    "Maximum relative humid temperature for the last hour (%),\n",
    "Minimum relative humid temperature for the last hour (%),\n",
    "Relative humid (% instant),\n",
    "Wind direction (radius degrees (0-360)),\n",
    "Wind gust in metres per second,\n",
    "Wind speed in metres per second,\n",
    "Brazilian geopolitical regions,\n",
    "State (Province),\n",
    "Station Name (usually city location or nickname),\n",
    "Station code (INMET number),\n",
    "Latitude,\n",
    "Longitude,\n",
    "Elevation\n",
    "\n",
    "https://www.kaggle.com/datasets/PROPPG-PPG/hourly-weather-surface-brazil-southeast-region\n",
    "\n"
   ]
  },
  {
   "cell_type": "markdown",
   "metadata": {},
   "source": [
    "# Q7 Give example of records(sample points). Why this is a noisy data set(highlight  portion of record attributes you think are noisy)."
   ]
  },
  {
   "cell_type": "markdown",
   "metadata": {},
   "source": [
    "By looking at the first few rows of the data set, we can see multiple issues. First, the row names will have to be manually translated into english from portuguese. Second, the data does being to populate for this northeastern region until observation 3513, well into the year 2000. We will have limit our data to start there:\n",
    "\n",
    "\"index\",\"Data\",\"Hora\",\"PRECIPITAÇÃO TOTAL, HORÁRIO (mm)\",\"PRESSAO ATMOSFERICA AO NIVEL DA ESTACAO, HORARIA (mB)\",\"PRESSÃO ATMOSFERICA MAX.NA HORA ANT. (AUT) (mB)\",\"PRESSÃO ATMOSFERICA MIN. NA HORA ANT. (AUT) (mB)\",\"RADIACAO GLOBAL (Kj/m²)\",\"TEMPERATURA DO AR - BULBO SECO, HORARIA (°C)\",\"TEMPERATURA DO PONTO DE ORVALHO (°C)\",\"TEMPERATURA MÁXIMA NA HORA ANT. (AUT) (°C)\",\"TEMPERATURA MÍNIMA NA HORA ANT. (AUT) (°C)\",\"TEMPERATURA ORVALHO MAX. NA HORA ANT. (AUT) (°C)\",\"TEMPERATURA ORVALHO MIN. NA HORA ANT. (AUT) (°C)\",\"UMIDADE REL. MAX. NA HORA ANT. (AUT) (%)\",\"UMIDADE REL. MIN. NA HORA ANT. (AUT) (%)\",\"UMIDADE RELATIVA DO AR, HORARIA (%)\",\"VENTO, DIREÇÃO HORARIA (gr) (° (gr))\",\"VENTO, RAJADA MAXIMA (m/s)\",\"VENTO, VELOCIDADE HORARIA (m/s)\",\"region\",\"state\",\"station\",\"station_code\",\"latitude\",\"longitude\",\"height\"\n",
    "0,\"2000-05-13\",\"00:00\",-9999.0,-9999,-9999.0,-9999.0,-9999,-9999.0,-9999.0,-9999.0,-9999.0,-9999.0,-9999.0,-9999,-9999,-9999,-9999,-9999.0,-9999.0,NE,BA,SALVADOR,A401,-13.01666666,-38.51666666,51.41\n",
    "1,\"2000-05-13\",\"01:00\",-9999.0,-9999,-9999.0,-9999.0,-9999,-9999.0,-9999.0,-9999.0,-9999.0,-9999.0,-9999.0,-9999,-9999,-9999,-9999,-9999.0,-9999.0,NE,BA,SALVADOR,A401,-13.01666666,-38.51666666,51.41\n",
    "2,\"2000-05-13\",\"02:00\",-9999.0,-9999,-9999.0,-9999.0,-9999,-9999.0,-9999.0,-9999.0,-9999.0,-9999.0,-9999.0,-9999,-9999,-9999,-9999,-9999.0,-9999.0,NE,BA,SALVADOR,A401,-13.01666666,-38.51666666,51.41\n",
    "3,\"2000-05-13\",\"03:00\",-9999.0,-9999,-9999.0,-9999.0,-9999,-9999.0,-9999.0,-9999.0,-9999.0,-9999.0,-9999.0,-9999,-9999,-9999,-9999,-9999.0,-9999.0,NE,BA,SALVADOR,A401,-13.01666666,-38.51666666,51.41\n",
    "\n",
    "When looking further into the data set, we can see that some observations have correct measurements while the default, erroneous values still require cleaning (-9999, for example):\n",
    "\n",
    "352783,\"2021-03-01\",\"07:00\",-9999.0,-9999,-9999.0,-9999.0,-9999,-9999.0,-9999.0,-9999.0,-9999.0,-9999.0,-9999.0,-9999,-9999,-9999,-9999,-9999.0,-9999.0,NE,RN,NATAL,A304,-5.83722221,-35.20805555,47.46\n",
    "352784,\"2021-03-01\",\"08:00\",-9999.0,-9999,-9999.0,-9999.0,-9999,-9999.0,-9999.0,-9999.0,-9999.0,-9999.0,-9999.0,-9999,-9999,-9999,-9999,-9999.0,-9999.0,NE,RN,NATAL,A304,-5.83722221,-35.20805555,47.46\n",
    "352785,\"2021-03-01\",\"09:00\",-9999.0,-9999,-9999.0,-9999.0,-9999,-9999.0,-9999.0,-9999.0,-9999.0,-9999.0,-9999.0,-9999,-9999,-9999,-9999,-9999.0,-9999.0,NE,RN,NATAL,A304,-5.83722221,-35.20805555,47.46\n",
    "352786,\"2021-03-01\",\"10:00\",0.0,1002,1002.2,1001.5,443,27.5,23.5,27.8,26.3,24.0,23.2,84,78,79,102,6.6,3.1,NE,RN,NATAL,A304,-5.83722221,-35.20805555,47.46\n",
    "352787,\"2021-03-01\",\"11:00\",0.0,1003,1003.2,1002.2,996,27.7,22.9,28.9,27.5,24.3,22.2,79,72,75,114,7.7,3.4,NE,RN,NATAL,A304,-5.83722221,-35.20805555,47.46\n",
    "\n",
    "A completed observation should be of the form:\n",
    "\n",
    "352795,\"2021-03-01\",\"19:00\",0.0,1001,1001.4,1000.9,782,24.8,23.5,27.1,24.6,24.1,22.9,93,83,92,140,9.2,4.1,NE,RN,NATAL,A304,-5.83722221,-35.20805555,47.46\n"
   ]
  },
  {
   "cell_type": "markdown",
   "metadata": {},
   "source": [
    "# Q8 What kind of  feature engineering opportunity you see.\n",
    "\n",
    "We'll cover feature engineering but here are some examples to get an idea of feature engineering.\n",
    "- Do you need to extract a number, year, or a word in column(attribute of a record).\n",
    "    + Like may be extracting Miss, Mr., Dr. is more inportant than actual name.\n",
    "    + May be year or time is embbedded in the text desciption and it is important for analysis. \n",
    "- If a column has numerical values. Do you see a potential for using these values or a transformation of these values like square, log etc?"
   ]
  },
  {
   "cell_type": "markdown",
   "metadata": {},
   "source": [
    "+ we will need to extract year, month, and day from the date column\n",
    "+ we might need to expand some of the abbreviations for provinces\n",
    "+ we don't know exactly how yet (seaborn?), but extracting latitude and longitude and displaying the location on a map would be one interesting idea"
   ]
  }
 ],
 "metadata": {
  "kernelspec": {
   "display_name": "Python 3",
   "language": "python",
   "name": "python3"
  },
  "language_info": {
   "codemirror_mode": {
    "name": "ipython",
    "version": 3
   },
   "file_extension": ".py",
   "mimetype": "text/x-python",
   "name": "python",
   "nbconvert_exporter": "python",
   "pygments_lexer": "ipython3",
   "version": "3.8.10"
  },
  "toc": {
   "base_numbering": 1,
   "nav_menu": {},
   "number_sections": false,
   "sideBar": true,
   "skip_h1_title": false,
   "title_cell": "Table of Contents",
   "title_sidebar": "Contents",
   "toc_cell": false,
   "toc_position": {},
   "toc_section_display": true,
   "toc_window_display": false
  },
  "varInspector": {
   "cols": {
    "lenName": 16,
    "lenType": 16,
    "lenVar": 40
   },
   "kernels_config": {
    "python": {
     "delete_cmd_postfix": "",
     "delete_cmd_prefix": "del ",
     "library": "var_list.py",
     "varRefreshCmd": "print(var_dic_list())"
    },
    "r": {
     "delete_cmd_postfix": ") ",
     "delete_cmd_prefix": "rm(",
     "library": "var_list.r",
     "varRefreshCmd": "cat(var_dic_list()) "
    }
   },
   "types_to_exclude": [
    "module",
    "function",
    "builtin_function_or_method",
    "instance",
    "_Feature"
   ],
   "window_display": false
  }
 },
 "nbformat": 4,
 "nbformat_minor": 2
}
