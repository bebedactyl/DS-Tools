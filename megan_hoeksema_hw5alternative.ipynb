{
 "cells": [
  {
   "cell_type": "code",
   "execution_count": null,
   "metadata": {},
   "outputs": [],
   "source": [
    "# Assignment 5, Part 1:  Construct a CSV with the first eight elements of the periodic table of elements.\n",
    "# Include columns containing name, symbol, and atomic number.  Read that into a pandas DataFrame.  Inside\n",
    "# the program add a nineth and tenth element then add a column with the atomic weights rounded to the nearest\n",
    "# integer."
   ]
  },
  {
   "cell_type": "code",
   "execution_count": 2,
   "metadata": {},
   "outputs": [],
   "source": [
    "import pandas as pd\n",
    "import numpy as np\n",
    "import csv"
   ]
  },
  {
   "cell_type": "code",
   "execution_count": 3,
   "metadata": {},
   "outputs": [
    {
     "name": "stdout",
     "output_type": "stream",
     "text": [
      "Original DataFrame\n",
      "        Name Symbol  Atomic number (u)\n",
      "0   Hydrogen      H             1.0078\n",
      "1     Helium     He             4.0026\n",
      "2    Lithium     Li             6.9410\n",
      "3  Beryllium     Be             9.0122\n",
      "4      Boron      B            10.8110\n",
      "5     Carbon      C            12.0110\n",
      "6   Nitrogen      N            14.0070\n",
      "7     Oxygen      O            15.9990\n"
     ]
    }
   ],
   "source": [
    "header = ['Name', 'Symbol', 'Atomic number (u)']\n",
    "elems = [['Hydrogen', 'H', 1.0078], ['Helium', 'He', 4.0026], ['Lithium', 'Li', 6.9410],\n",
    "         ['Beryllium', 'Be', 9.0122], ['Boron', 'B', 10.811], ['Carbon', 'C', 12.011],\n",
    "         ['Nitrogen', 'N', 14.007], ['Oxygen', 'O', 15.999]]\n",
    "\n",
    "with open('elements.csv', 'w', encoding='UTF8', newline='') as file:\n",
    "    writer = csv.writer(file)\n",
    "    writer.writerow(header)\n",
    "    writer.writerows(elems)\n",
    "\n",
    "df = pd.read_csv('elements.csv')\n",
    "print('Original DataFrame')\n",
    "print(df)"
   ]
  },
  {
   "cell_type": "code",
   "execution_count": 4,
   "metadata": {},
   "outputs": [
    {
     "name": "stdout",
     "output_type": "stream",
     "text": [
      "\n",
      " New Data Frame\n",
      "        Name Symbol  Atomic number (u)\n",
      "0   Hydrogen      H             1.0078\n",
      "1     Helium     He             4.0026\n",
      "2    Lithium     Li             6.9410\n",
      "3  Beryllium     Be             9.0122\n",
      "4      Boron      B            10.8110\n",
      "5     Carbon      C            12.0110\n",
      "6   Nitrogen      N            14.0070\n",
      "7     Oxygen      O            15.9990\n",
      "8   Fluorine      F            18.9980\n",
      "9       Neon     Ne            20.1800\n"
     ]
    }
   ],
   "source": [
    "df.loc[len(df.index)] = ['Fluorine', 'F', 18.998]\n",
    "df.loc[len(df.index)] = ['Neon', 'Ne', 20.180]\n",
    "print('\\n New Data Frame')\n",
    "print(df)"
   ]
  },
  {
   "cell_type": "code",
   "execution_count": 5,
   "metadata": {
    "scrolled": true
   },
   "outputs": [
    {
     "name": "stdout",
     "output_type": "stream",
     "text": [
      "\n",
      " New Data Frame with a New Column\n",
      "        Name Symbol  Atomic number (u)  Atomic (Round)\n",
      "0   Hydrogen      H             1.0078               2\n",
      "1     Helium     He             4.0026               5\n",
      "2    Lithium     Li             6.9410               7\n",
      "3  Beryllium     Be             9.0122              10\n",
      "4      Boron      B            10.8110              11\n",
      "5     Carbon      C            12.0110              13\n",
      "6   Nitrogen      N            14.0070              15\n",
      "7     Oxygen      O            15.9990              16\n",
      "8   Fluorine      F            18.9980              19\n",
      "9       Neon     Ne            20.1800              21\n"
     ]
    }
   ],
   "source": [
    "df['Atomic (Round)'] = df['Atomic number (u)'].apply(np.ceil)\n",
    "df[\"Atomic (Round)\"] = df[\"Atomic (Round)\"].astype(float).astype(int)\n",
    "print('\\n New Data Frame with a New Column')\n",
    "print(df)"
   ]
  },
  {
   "cell_type": "code",
   "execution_count": null,
   "metadata": {},
   "outputs": [],
   "source": [
    "# Assignment 5, Part 2:  Make a list of strings for nine Greek letters, ‘alpha’, for example.\n",
    "# Make that list such that they are not in alphabetic order.  Make two 9-element numpy arrays\n",
    "# of random floating-point numbers with the estimated mean 10 and standard deviation 1.5.\n",
    "# Make another array of nine elements ranging from zero to two times pi.  Name it ‘angle’.\n",
    "# Make another array holding the cosine of that ‘angle’ array.  Construct a dictionary from all\n",
    "# of the above.  Form a DataFrame from that dictionary and print it out.  Sort the DataFrame\n",
    "# ascending on the Greek letters, drop two columns of your choice, drop one of the rows, and\n",
    "# print that out."
   ]
  },
  {
   "cell_type": "code",
   "execution_count": 6,
   "metadata": {},
   "outputs": [
    {
     "name": "stdout",
     "output_type": "stream",
     "text": [
      "  greekLetters     array2     array3     angle      cosAngle\n",
      "0      Omicron  10.703668   6.843146  0.000000  1.000000e+00\n",
      "1          Phi   9.575705   9.257606  0.785398  7.071068e-01\n",
      "2         Beta   7.736412  11.607706  1.570796  6.123234e-17\n",
      "3        Theta   8.296551  11.082333  2.356194 -7.071068e-01\n",
      "4           Xi  11.818168   8.939843  3.141593 -1.000000e+00\n",
      "5      Epsilon   9.740178   8.440638  3.926991 -7.071068e-01\n",
      "6        Omega  10.178813  10.407790  4.712389 -1.836970e-16\n",
      "7          Tau   8.433646   9.362542  5.497787  7.071068e-01\n",
      "8       Lambda   8.707227  10.850531  6.283185  1.000000e+00\n",
      "\n",
      " Dataframe after sorting, dropping two columns, removing 1 row\n",
      "  greekLetters     angle      cosAngle\n",
      "2         Beta  1.570796  6.123234e-17\n",
      "5      Epsilon  3.926991 -7.071068e-01\n",
      "8       Lambda  6.283185  1.000000e+00\n",
      "6        Omega  4.712389 -1.836970e-16\n",
      "0      Omicron  0.000000  1.000000e+00\n",
      "1          Phi  0.785398  7.071068e-01\n",
      "3        Theta  2.356194 -7.071068e-01\n",
      "4           Xi  3.141593 -1.000000e+00\n"
     ]
    }
   ],
   "source": [
    "greekLetters =['Omicron', 'Phi', 'Beta', 'Theta', 'Xi', 'Epsilon', 'Omega', 'Tau', 'Lambda']\n",
    "np.random.seed(123456)\n",
    "\n",
    "my_std = 1.5\n",
    "my_mean = 10\n",
    "array2 = my_std * np.random.randn(9) + my_mean\n",
    "array3 = my_std * np.random.randn(9) + my_mean\n",
    "angle = np.linspace(0, 2 * np.pi, 9)\n",
    "cosAngle = np.cos(angle)\n",
    "arrayDict = dict(zip([\"greekLetters\", \"array2\", \"array3\", \"angle\", \"cosAngle\"],\n",
    "                     [greekLetters, array2, array3, angle, cosAngle]))\n",
    "\n",
    "df = pd.DataFrame(arrayDict)\n",
    "print(df)\n",
    "\n",
    "df.sort_values(by=['greekLetters'], inplace=True)\n",
    "df = df.drop(df.columns[[1, 2]], axis=1)\n",
    "df = df.drop(7)\n",
    "\n",
    "print('\\n Dataframe after sorting, dropping two columns, removing 1 row')\n",
    "print(df)\n"
   ]
  },
  {
   "cell_type": "code",
   "execution_count": null,
   "metadata": {},
   "outputs": [],
   "source": [
    "# Assignment 5, Part 3:  Write a program in Python to create and print out the first twelve Fibonacci numbers.\n",
    "# Then iterate over the last five numbers to build another list with the ratio of each number to its predecessor.\n",
    "# What do you observe about this latter list?"
   ]
  },
  {
   "cell_type": "code",
   "execution_count": 7,
   "metadata": {},
   "outputs": [
    {
     "name": "stdout",
     "output_type": "stream",
     "text": [
      "[0, 1, 1, 2, 3, 5, 8, 13, 21, 34, 55, 89]\n",
      "[ 1  0  1  1  2  3  5  8 13 21 34]\n"
     ]
    }
   ],
   "source": [
    "def fibonacci(n):\n",
    "    if n in {0, 1}:\n",
    "        return n\n",
    "    return fibonacci(n - 1) + fibonacci(n - 2)\n",
    "\n",
    "listOfFib = [fibonacci(n) for n in range(12)]\n",
    "print(listOfFib)\n",
    "\n",
    "differences = np.diff(listOfFib)\n",
    "print(differences)"
   ]
  },
  {
   "cell_type": "code",
   "execution_count": null,
   "metadata": {},
   "outputs": [],
   "source": [
    "#You will notice that the difference between two numbers in a Fibonacci sequence is equal to the previous value in the\n",
    "# Fibonacci sequence. For example, the 11th number in the sequence is 55. The difference between the 11th number and\n",
    "# the 12th number (|55 - 89|) is equal to the value in the 10th position (34). You will notice that the difference\n",
    "# between two numbers in a Fibonacci sequence is equal to the previous value in the Fibonacci sequence. For example,\n",
    "# the 11th number in the sequence is 55. The difference between the 11th number and the 12th number (|55 - 89|) is\n",
    "# equal to the value in the 10th position (34)."
   ]
  },
  {
   "cell_type": "code",
   "execution_count": null,
   "metadata": {},
   "outputs": [],
   "source": [
    "# Assignment 5, Part 4:  Provide a function that converts temperature in Kelvin to Rankine.  Make a list of\n",
    "# five Kelvin temperatures and print out their values in Rankine.  Repeat using a lambda function."
   ]
  },
  {
   "cell_type": "code",
   "execution_count": 8,
   "metadata": {},
   "outputs": [
    {
     "name": "stdout",
     "output_type": "stream",
     "text": [
      "[-18.9    90.225 180.45  450.9   586.35 ]\n"
     ]
    }
   ],
   "source": [
    "from scipy.constants import convert_temperature\n",
    "\n",
    "def kelvinToRankine(list):\n",
    "    return convert_temperature(np.array(list), 'Kelvin', 'Rankine')\n",
    "\n",
    "print(kelvinToRankine([-10.5, 50.125, 100.25, 250.5, 325.75]))"
   ]
  },
  {
   "cell_type": "code",
   "execution_count": null,
   "metadata": {},
   "outputs": [],
   "source": [
    "# Assignment 5, Part 5:  Construct a Pandas dataframe with two columns of 100 random numbers drawn from a normal\n",
    "# (Gaussian) distribution.  Divide the DF into two with a 75-25 split at random.  Reset the indices of each new DF.\n",
    "# Print the first 12 lines of each.  Compute the mean and standard deviation of each column of each new DF."
   ]
  },
  {
   "cell_type": "code",
   "execution_count": 22,
   "metadata": {},
   "outputs": [
    {
     "name": "stdout",
     "output_type": "stream",
     "text": [
      "75 split\n",
      "    index      col1      col2\n",
      "0      95 -1.369849  0.227371\n",
      "1      13 -0.706771  0.380396\n",
      "2      99 -0.826591 -1.134623\n",
      "3      77  0.769804 -0.858447\n",
      "4      20 -0.673690  0.132885\n",
      "5      41  0.413738 -0.489682\n",
      "6      79 -0.727707 -0.028665\n",
      "7      78 -1.281247  0.306996\n",
      "8      88 -0.732339  0.650776\n",
      "9      54 -1.170299 -1.071357\n",
      "10     33 -0.109050 -0.025747\n",
      "11     66  1.024180 -1.328865\n",
      "\n",
      "25 split\n",
      "    index      col1      col2\n",
      "0      75 -1.219217 -1.066969\n",
      "1      76 -1.226825 -0.303421\n",
      "2      77  0.769804 -0.858447\n",
      "3      78 -1.281247  0.306996\n",
      "4      79 -0.727707 -0.028665\n",
      "5      80 -0.121306  0.384316\n",
      "6      81 -0.097883  1.574159\n",
      "7      82  0.695775  1.588931\n",
      "8      83  0.341734  0.476720\n",
      "9      84  0.959726  0.473424\n",
      "10     85 -1.110336 -0.242861\n",
      "11     86 -0.619976 -0.014805\n",
      "\n",
      "The mean and standard deviation of col1 of 75 split dataframe is: -0.3353834076179121 +- 0.9070314543527567\n",
      "\n",
      "The mean and standard deviation of col2 of 75 split dataframe is: 0.0921668575645549 +- 1.0882900174461438\n",
      "\n",
      "The mean and standard deviation of col1 of 25 split dataframe is: -0.33667431312206203 +- 0.9315245727119774\n",
      "\n",
      "The mean and standard deviation of col2 of 25 split dataframe is: -0.11357198215121173 +- 0.9651754604943913\n"
     ]
    }
   ],
   "source": [
    "import numpy as np\n",
    "import pandas as pd\n",
    "\n",
    "np.random.seed(123456)\n",
    "df = pd.DataFrame(dict(col1 = np.random.normal(size=100),col2 = np.random.normal(size=100)))\n",
    "# print(df)\n",
    "\n",
    "part_75 = df.sample(frac = 0.75)\n",
    "part_75 = part_75.reset_index()\n",
    "part_25 = df.drop(part_75.index)\n",
    "part_25 = part_25.reset_index()\n",
    "print(\"75 split\")\n",
    "print(part_75.head(12))\n",
    "print('\\n25 split')\n",
    "print(part_25.head(12))\n",
    "\n",
    "mean1 = part_75[\"col1\"].mean()\n",
    "mean2 = part_75['col2'].mean()\n",
    "mean3 = part_25[\"col1\"].mean()\n",
    "mean4 = part_25['col2'].mean()\n",
    "std1 = part_75[\"col1\"].std()\n",
    "std2 = part_75[\"col2\"].std()\n",
    "std3 = part_25[\"col1\"].std()\n",
    "std4 = part_25[\"col2\"].std()\n",
    "\n",
    "print('\\nThe mean and standard deviation of col1 of 75 split dataframe is: ' + str(mean1) + ' +- ' + str(std1))\n",
    "print('\\nThe mean and standard deviation of col2 of 75 split dataframe is: ' + str(mean2) + ' +- ' + str(std2))\n",
    "print('\\nThe mean and standard deviation of col1 of 25 split dataframe is: ' + str(mean3) + ' +- ' + str(std3))\n",
    "print('\\nThe mean and standard deviation of col2 of 25 split dataframe is: ' + str(mean4) + ' +- ' + str(std4)) \n"
   ]
  },
  {
   "cell_type": "code",
   "execution_count": null,
   "metadata": {},
   "outputs": [],
   "source": [
    "# Assignment 5, Part 6:  Load the Titanic dataset (a Seaborn built-in) into a DF.  Compute the survival rate for\n",
    "# each passenger class based on sex.  Use the cut method to create three bins to hold the passenger ages in\n",
    "# catagorical form.  Hint: use [0,18,25,99] and ['kid','young_adult','adult']."
   ]
  },
  {
   "cell_type": "code",
   "execution_count": 58,
   "metadata": {},
   "outputs": [
    {
     "name": "stdout",
     "output_type": "stream",
     "text": [
      "Female Survival Rate: 68.13\n",
      "Male Survival Rate: 31.87\n",
      "\n",
      "   survived  pclass     sex   age  sibsp  parch     fare embarked   class  \\\n",
      "0         0       3    male  22.0      1      0   7.2500        S   Third   \n",
      "1         1       1  female  38.0      1      0  71.2833        C   First   \n",
      "2         1       3  female  26.0      0      0   7.9250        S   Third   \n",
      "3         1       1  female  35.0      1      0  53.1000        S   First   \n",
      "4         0       3    male  35.0      0      0   8.0500        S   Third   \n",
      "5         0       3    male   NaN      0      0   8.4583        Q   Third   \n",
      "6         0       1    male  54.0      0      0  51.8625        S   First   \n",
      "7         0       3    male   2.0      3      1  21.0750        S   Third   \n",
      "8         1       3  female  27.0      0      2  11.1333        S   Third   \n",
      "9         1       2  female  14.0      1      0  30.0708        C  Second   \n",
      "\n",
      "     who  adult_male deck  embark_town alive  alone         bins  \n",
      "0    man        True  NaN  Southampton    no  False  young_adult  \n",
      "1  woman       False    C    Cherbourg   yes  False        adult  \n",
      "2  woman       False  NaN  Southampton   yes   True        adult  \n",
      "3  woman       False    C  Southampton   yes  False        adult  \n",
      "4    man        True  NaN  Southampton    no   True        adult  \n",
      "5    man        True  NaN   Queenstown    no   True          NaN  \n",
      "6    man        True    E  Southampton    no   True        adult  \n",
      "7  child       False  NaN  Southampton    no  False          kid  \n",
      "8  woman       False  NaN  Southampton   yes  False        adult  \n",
      "9  child       False  NaN    Cherbourg   yes  False          kid  \n",
      "['young_adult', 'adult', NaN, 'kid']\n",
      "Categories (3, object): ['kid' < 'young_adult' < 'adult']\n"
     ]
    }
   ],
   "source": [
    "import seaborn as sns\n",
    "titanic = sns. load_dataset('titanic')\n",
    "# print(titanic.head())\n",
    "\n",
    "survivor_count = titanic['survived'].sum()\n",
    "\n",
    "def get_counts(dataframe, factor, quality, status):\n",
    "    target = dataframe[factor].where(dataframe[factor] == quality)\n",
    "    class_count = target.where(dataframe['survived'] == status).count()\n",
    "    return class_count\n",
    "\n",
    "female_survival_count = get_counts(titanic, 'sex', 'female', 1)\n",
    "male_survival_count = get_counts(titanic, 'sex', 'male', 1)\n",
    "\n",
    "female_survival_rate = female_survival_count/survivor_count * 100\n",
    "male_survival_rate = male_survival_count/survivor_count * 100\n",
    "\n",
    "print('Female Survival Rate: ' + str(round(female_survival_rate, 2)))\n",
    "print('Male Survival Rate: ' + str(round(male_survival_rate, 2)) + '\\n')\n",
    "\n",
    "titanic['bins'] = pd.cut(x=titanic['age'], bins=[0,18,25,99],  labels=['kid','young_adult','adult'])\n",
    "print(titanic.head(10))\n",
    "print(titanic['bins'].unique())"
   ]
  }
 ],
 "metadata": {
  "kernelspec": {
   "display_name": "Python 3",
   "language": "python",
   "name": "python3"
  },
  "language_info": {
   "codemirror_mode": {
    "name": "ipython",
    "version": 3
   },
   "file_extension": ".py",
   "mimetype": "text/x-python",
   "name": "python",
   "nbconvert_exporter": "python",
   "pygments_lexer": "ipython3",
   "version": "3.8.10"
  }
 },
 "nbformat": 4,
 "nbformat_minor": 4
}
